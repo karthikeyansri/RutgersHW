{
 "cells": [
  {
   "cell_type": "code",
   "execution_count": 1,
   "metadata": {},
   "outputs": [],
   "source": [
    "import os\n",
    "import csv"
   ]
  },
  {
   "cell_type": "code",
   "execution_count": 6,
   "metadata": {},
   "outputs": [],
   "source": [
    "def file_to_summary_dict(file_path): \n",
    "    ## Empty_dict for candidate and the votes received\n",
    "    candidate_votes = {}\n",
    "    \n",
    "    with open(file_path, 'r', newline='') as ctx: \n",
    "        csvReader = csv.reader(ctx, delimiter = ',')\n",
    "        records = 0\n",
    "        for row in csvReader: \n",
    "            if csvReader.line_num == 1:\n",
    "                continue\n",
    "            \n",
    "            records += 1\n",
    "            candidate = row[2].strip()\n",
    "            county = row[1].strip()\n",
    "            \n",
    "            if candidate in candidate_votes.keys(): \n",
    "                votes = candidate_votes[candidate] + 1\n",
    "                candidate_votes.update({candidate: votes})\n",
    "            else: \n",
    "                candidate_votes.update({candidate: 1})\n",
    "                    \n",
    "    return candidate_votes, records"
   ]
  },
  {
   "cell_type": "code",
   "execution_count": 23,
   "metadata": {},
   "outputs": [],
   "source": [
    "def get_line_str(): \n",
    "    return '-------------------------'\n",
    "\n",
    "\n",
    "def get_result_str(rec_dict, rec_len): \n",
    "    max_votes = -1\n",
    "    winner_str = ''\n",
    "    \n",
    "    out_str = ''\n",
    "    out_str = out_str + '\\n' + 'Election Results'\n",
    "    out_str = out_str + '\\n' + get_line_str()\n",
    "    out_str = out_str + '\\n' + 'Total Votes: ' + str(rec_len)\n",
    "    out_str = out_str + '\\n' + get_line_str()\n",
    "    \n",
    "    for key, value in rec_dict.items(): \n",
    "        if max_votes < value: \n",
    "            max_votes = value\n",
    "            winner_str = 'Winner: ' + key\n",
    "        \n",
    "        vote_percentage = 100 * value/rec_len\n",
    "        out_str = out_str + '\\n' + key + ': ' + str(round(vote_percentage, 3)) + '% (' + str(value) + ')'\n",
    "    \n",
    "    out_str = out_str + '\\n' + get_line_str()\n",
    "    out_str = out_str + '\\n' + winner_str\n",
    "    out_str = out_str + '\\n' + get_line_str()\n",
    "    \n",
    "    print(rec_dict)\n",
    "    \n",
    "    print(out_str)"
   ]
  },
  {
   "cell_type": "code",
   "execution_count": 24,
   "metadata": {},
   "outputs": [
    {
     "name": "stdout",
     "output_type": "stream",
     "text": [
      "{'Khan': 2218231, 'Correy': 704200, 'Li': 492940, \"O'Tooley\": 105630}\n",
      "\n",
      "Election Results\n",
      "-------------------------\n",
      "Total Votes: 3521001\n",
      "-------------------------\n",
      "Khan: 63.0% (2218231)\n",
      "Correy: 20.0% (704200)\n",
      "Li: 14.0% (492940)\n",
      "O'Tooley: 3.0% (105630)\n"
     ]
    }
   ],
   "source": [
    "    \n",
    "file_path = os.path.join('./Resources/election_data.csv')\n",
    "summary_dict, rec_len = file_to_summary_dict(file_path)\n",
    "get_result_str(summary_dict, rec_len)\n"
   ]
  },
  {
   "cell_type": "code",
   "execution_count": null,
   "metadata": {},
   "outputs": [],
   "source": []
  }
 ],
 "metadata": {
  "kernelspec": {
   "display_name": "Python 3",
   "language": "python",
   "name": "python3"
  },
  "language_info": {
   "codemirror_mode": {
    "name": "ipython",
    "version": 3
   },
   "file_extension": ".py",
   "mimetype": "text/x-python",
   "name": "python",
   "nbconvert_exporter": "python",
   "pygments_lexer": "ipython3",
   "version": "3.6.2"
  }
 },
 "nbformat": 4,
 "nbformat_minor": 2
}
